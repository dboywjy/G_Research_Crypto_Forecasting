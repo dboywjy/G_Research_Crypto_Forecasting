{
 "cells": [
  {
   "cell_type": "code",
   "execution_count": 1,
   "id": "2b72c80e",
   "metadata": {},
   "outputs": [],
   "source": [
    "import sys\n",
    "sys.path.append(\"../src/\")\n",
    "from utils import CVsample, talib, lgb_forcast\n",
    "from utils import *\n",
    "df = pd.read_csv(\"../data/raw_data/train.csv\")\n",
    "weight = pd.read_csv(\"../data/raw_data/asset_details.csv\")"
   ]
  },
  {
   "cell_type": "code",
   "execution_count": 2,
   "id": "3905fedf",
   "metadata": {},
   "outputs": [],
   "source": [
    "lgb_params = {'boost': 'gbdt'\n",
    "         ,'num_leaves': 11\n",
    "         ,'n_estimators':4000\n",
    "         ,'max_depth': 11\n",
    "         ,'subsample_for_bin':200000\n",
    "         ,'learning_rate':0.05\n",
    "         ,'min_child_samples':20\n",
    "         ,'n_jobs':-1\n",
    "         }\n",
    "cv = 3\n",
    "plength=0.8\n",
    "ptrain=0.8\n",
    "pgap=0.05\n",
    "cv_method = 'best'\n",
    "timestamp_fill = False\n",
    "method = 'drop'\n",
    "weight = weight\n",
    "df = df"
   ]
  },
  {
   "cell_type": "code",
   "execution_count": null,
   "id": "b47b184f",
   "metadata": {},
   "outputs": [],
   "source": [
    "models = {}"
   ]
  },
  {
   "cell_type": "code",
   "execution_count": 9,
   "id": "56a5e879",
   "metadata": {
    "scrolled": true
   },
   "outputs": [],
   "source": [
    "wPCC_asset_list = {}\n",
    "def get_model(Asset_ID):\n",
    "    dft = df[df['Asset_ID'] == Asset_ID].sort_values(by=['timestamp'], ascending=True)\n",
    "    # sample\n",
    "    cvs = CVsample(df=dft, ival='timestamp', cv=cv, plength=plength, ptrain=ptrain, pgap=pgap)\n",
    "    cvs.main()\n",
    "\n",
    "    # test\n",
    "    test = dft[dft['timestamp'] > max(cvs.validation_ends)]\n",
    "    tb = talib(test)\n",
    "    test_panel = tb.main()\n",
    "\n",
    "    # 对每个fold, 有多种方法，平均还是最好\n",
    "    lgbs, wPCC = [], []\n",
    "    for i in range(0, cv):\n",
    "        [train, gap, validation] = cvs.get_df(i)\n",
    "\n",
    "        # msing data\n",
    "        ms = MsData(train, timestamp_fill=timestamp_fill, method=method, target='Target')\n",
    "        train = ms.main()\n",
    "\n",
    "        # feature\n",
    "        tb = talib(train)\n",
    "        train_panel = tb.main()\n",
    "\n",
    "        tb = talib(validation)\n",
    "        val_panel = tb.main()\n",
    "\n",
    "        # lightgbm\n",
    "        lgb = lgb_forcast(train_panel, val_panel, lgb_params)\n",
    "        lgb.lgb_train()\n",
    "        lgbs.append(lgb)\n",
    "        predict_sigma = math.sqrt(lgb.out_params['cov'][0][0])\n",
    "        real_sigma = math.sqrt(lgb.out_params['cov'][1][1])\n",
    "        wPCC_i = weight[weight['Asset_ID'] == Asset_ID]['Weight'].iloc[0]*lgb.out_params['cov'][0][1] / (predict_sigma*real_sigma)\n",
    "        wPCC.append(wPCC_i)\n",
    "    feacols = [col for col in train_panel.columns if col not in ['Target', 'timestamp']]\n",
    "    if cv_method == 'best':\n",
    "        test['pred'] = lgbs[wPCC.index(max(wPCC))].lgr.predict(test_panel[feacols])\n",
    "    if cv_method == 'avg':\n",
    "        test['pred'] = lgbs[0].lgr.predict(test_panel[feacols])\n",
    "        for i in range(1, cv):\n",
    "            test['pred'] = test['pred']+lgbs[i].lgr.predict(test_panel[feacols])\n",
    "        test['pred'] = test['pred'] / cv\n",
    "\n",
    "    # calculate the final wPCC\n",
    "    test2 = test[(test['Target'].isnull() == False) & (test['pred'].isnull() == False)]\n",
    "    cov = np.cov(test2['pred'], test2['Target'])\n",
    "    wPCC_asset = weight[weight['Asset_ID'] == Asset_ID]['Weight'].values[0]*cov[0][1]/(math.sqrt(cov[0][0]*cov[1][1]))\n",
    "    wPCC_asset_list[Asset_ID] = wPCC_asset\n",
    "    return lgbs[wPCC.index(max(wPCC))].lgr"
   ]
  },
  {
   "cell_type": "code",
   "execution_count": null,
   "id": "13f6b5d9",
   "metadata": {},
   "outputs": [],
   "source": [
    "for i in range(0, 14):\n",
    "    models[i] = get_model(Asset_ID)"
   ]
  },
  {
   "cell_type": "code",
   "execution_count": null,
   "id": "2fb6d082",
   "metadata": {},
   "outputs": [],
   "source": [
    "import gresearch_crypto\n",
    "env = gresearch_crypto.make_env()\n",
    "iter_test = env.iter_test()\n",
    "\n",
    "for i, (df_test, df_pred) in enumerate(iter_test):\n",
    "    for j , row in df_test.iterrows():        \n",
    "        if new_models[row['Asset_ID']] is not None:\n",
    "            try:\n",
    "                model = models[row['Asset_ID']]\n",
    "                x_test = get_features(row)\n",
    "                tb = talib(x_test)\n",
    "                x_test = tb.main()\n",
    "                y_pred = model.predict(pd.DataFrame([x_test]))[0]\n",
    "                df_pred.loc[df_pred['row_id'] == row['row_id'], 'Target'] = y_pred\n",
    "            except:\n",
    "                df_pred.loc[df_pred['row_id'] == row['row_id'], 'Target'] = 0\n",
    "                traceback.print_exc()\n",
    "        else: \n",
    "            df_pred.loc[df_pred['row_id'] == row['row_id'], 'Target'] = 0  \n",
    "    \n",
    "    env.predict(df_pred)"
   ]
  },
  {
   "cell_type": "code",
   "execution_count": null,
   "id": "ab3da497",
   "metadata": {},
   "outputs": [],
   "source": []
  }
 ],
 "metadata": {
  "kernelspec": {
   "display_name": "Python 3 (ipykernel)",
   "language": "python",
   "name": "python3"
  },
  "language_info": {
   "codemirror_mode": {
    "name": "ipython",
    "version": 3
   },
   "file_extension": ".py",
   "mimetype": "text/x-python",
   "name": "python",
   "nbconvert_exporter": "python",
   "pygments_lexer": "ipython3",
   "version": "3.11.5"
  }
 },
 "nbformat": 4,
 "nbformat_minor": 5
}
