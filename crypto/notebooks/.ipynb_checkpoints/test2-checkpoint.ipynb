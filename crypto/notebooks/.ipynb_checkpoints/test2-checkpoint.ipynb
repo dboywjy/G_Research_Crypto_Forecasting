{
 "cells": [
  {
   "cell_type": "code",
   "execution_count": 1,
   "id": "756545da",
   "metadata": {},
   "outputs": [],
   "source": [
    "import numpy as np\n",
    "import pandas as pd\n",
    "import talib \n",
    "from talib import abstract\n",
    "from joblib import delayed,Parallel,cpu_count\n",
    "import math\n",
    "from sklearn.model_selection import KFold, StratifiedKFold\n",
    "from sklearn.model_selection import GridSearchCV\n",
    "from lightgbm import LGBMRegressor\n",
    "from joblib import dump, load\n",
    "from tqdm import tqdm\n",
    "\n",
    "import io\n",
    "import json\n",
    "import requests\n",
    "import functools\n",
    "import numpy as np\n",
    "import pandas as pd\n",
    "from tqdm import tqdm\n",
    "\n",
    "import matplotlib.pyplot as plt\n",
    "import matplotlib.ticker as ticker\n",
    "from sklearn.model_selection import train_test_split\n",
    "\n",
    "pd.options.mode.chained_assignment = None\n",
    "\n",
    "import torch\n",
    "import torch.nn as nn\n",
    "import torch.optim as optim\n",
    "\n",
    "from torch.utils import data\n",
    "from torch.utils.data import Dataset, DataLoader\n",
    "from torch.nn import functional as F\n",
    "from torchvision import datasets, models, transforms"
   ]
  },
  {
   "cell_type": "code",
   "execution_count": 2,
   "id": "3fb8ffe4",
   "metadata": {},
   "outputs": [],
   "source": [
    "EPOCHS        = 50\n",
    "DROPOUT       = 0.2\n",
    "DIRECTIONS    = 1\n",
    "NUM_LAYERS    = 2\n",
    "BATCH_SIZE    = 128\n",
    "OUTPUT_SIZE   = 1\n",
    "SEQ_LENGTH    = 60\n",
    "NUM_FEATURES  = 56\n",
    "HIDDEN_SIZE   = 100\n",
    "LEARNING_RATE = 0.0001\n",
    "STATE_DIM     = NUM_LAYERS * DIRECTIONS, BATCH_SIZE, HIDDEN_SIZE\n",
    "TARGET        = \"Target\"\n",
    "FEATURES = ['HT_DCPERIOD', 'HT_DCPHASE', 'inphase', 'quadrature', 'sine', 'leadsine', 'HT_TRENDMODE',\n",
    "            'ADD', 'DIV', 'APO', 'BOP', 'CCI', 'CMO', 'macd', 'macdsignal', 'macdhist', 'MFI',\n",
    "            'MOM', 'PPO', 'ROC', 'RSI', 'TRIX', 'WILLR', 'upperband', 'middleband', 'lowerband',\n",
    "            'DEMA', 'EMA', 'HT_TRENDLINE', 'KAMA', 'MA', 'mama', 'fama', 'MIDPOINT', 'MIDPRICE',\n",
    "            'SAR', 'SAREXT', 'SMA', 'T3', 'TEMA', 'TRIMA', 'WMA', 'AVGPRICE', 'MEDPRICE', 'TYPPRICE',\n",
    "            'WCLPRICE', 'LINEARREG', 'LINEARREG_ANGLE', 'LINEARREG_INTERCEPT', 'LINEARREG_SLOPE', 'STDDEV',\n",
    "            'TSF', 'TRANGE', 'AD', 'ADOSC', 'OBV']"
   ]
  },
  {
   "cell_type": "code",
   "execution_count": 3,
   "id": "3090978c",
   "metadata": {},
   "outputs": [],
   "source": [
    "class CryptoDataset(Dataset):\n",
    "    \"\"\"Onchain dataset.\"\"\"\n",
    "\n",
    "    def __init__(self, csv_file, seq_length, features, target):\n",
    "        \"\"\"\n",
    "        Args:\n",
    "        \"\"\"\n",
    "        self.csv_file = csv_file\n",
    "        self.target = target\n",
    "        self.features = features\n",
    "        self.seq_length = seq_length\n",
    "        self.data_length = len(csv_file)\n",
    "\n",
    "        self.metrics = self.create_xy_pairs()\n",
    "\n",
    "    def create_xy_pairs(self):\n",
    "        pairs = []\n",
    "        for idx in range(self.data_length - self.seq_length):\n",
    "            x = self.csv_file[idx:idx + self.seq_length][self.features].values\n",
    "            y = self.csv_file[idx + self.seq_length:idx + self.seq_length + 1][self.target].values\n",
    "            pairs.append((x, y))\n",
    "        return pairs\n",
    "\n",
    "    def __len__(self):\n",
    "        return len(self.metrics)\n",
    "\n",
    "    def __getitem__(self, idx):\n",
    "        return self.metrics[idx]\n",
    "\n",
    "    \n",
    "from torch.utils.data import Dataset, DataLoader\n",
    "import torch\n",
    "import torch.nn as nn\n",
    "import pytorch_lightning as pl\n",
    "import torch.multiprocessing\n",
    "from joblib import Parallel, delayed\n",
    "import numpy as np\n",
    "from tqdm import tqdm\n",
    "\n",
    "class GruDataset(Dataset):\n",
    "    \"\"\"\n",
    "        Dataset for training\n",
    "    \"\"\"\n",
    "    def __init__(self,dataset, seq_len,train=True):\n",
    "        #Train denote whether this dataset is used for training(testing otherwise)\n",
    "        #if train，up and dwon threshold filter will work; if test, no such\n",
    "        def judge(df,up_threshold=1,down_threshold=-1):\n",
    "            #20% abs change in target \n",
    "            length=df.shape[0]-seq_len+1\n",
    "            df=df.copy()\n",
    "            #float32 to save memory\n",
    "            df=df.values.astype(np.float32)\n",
    "            x_list=[]\n",
    "            y_list=[]\n",
    "            for idx in tqdm(range(0,length)):\n",
    "                #像此处的index的部分，取决于\n",
    "                x=df[idx:idx+seq_len,:-3]\n",
    "                y=df[idx+seq_len-1,-3]\n",
    "                #don't study severe price change\n",
    "#                 if train:\n",
    "#                     if (abs(y)>down_threshold) and (abs(y)<up_threshold):\n",
    "#                         x_list.append(x)\n",
    "#                         y_list.append(y)\n",
    "#                 else:\n",
    "#                         x_list.append(x)\n",
    "#                         y_list.append(y)\n",
    "                x_list.append(x)\n",
    "                y_list.append(y)\n",
    "            length=len(x_list)\n",
    "            return [x_list,y_list,length]\n",
    "        #settle x array and y value in the list so that can get them easily\n",
    "        #final_set=Parallel(cpu_nums)(delayed(judge)(df) for name,df in dataset.groupby('Asset_ID') ) \n",
    "        self.final_set=[judge(df) for name,df in dataset.groupby('Asset_ID')]\n",
    "        self.length=sum([ self.final_set[i][2] for i in range(len( self.final_set))])\n",
    "        self.dataset=dataset\n",
    "        self._x=[ self.final_set[i][0][j] for i in range(len( self.final_set)) for j in range(len( self.final_set[i][0])) ]\n",
    "        self._y=[ self.final_set[i][1][j] for i in range(len( self.final_set)) for j in range(len( self.final_set[i][1])) ]\n",
    "    def __len__(self):\n",
    "        return self.length\n",
    "    def __getitem__(self, idx):\n",
    "        x=self._x[idx]\n",
    "        y=self._y[idx]\n",
    "        return (x,y)"
   ]
  },
  {
   "cell_type": "code",
   "execution_count": null,
   "id": "f293d405",
   "metadata": {},
   "outputs": [],
   "source": []
  },
  {
   "cell_type": "code",
   "execution_count": 4,
   "id": "0760d37a",
   "metadata": {},
   "outputs": [],
   "source": [
    "import sys\n",
    "sys.path.append(\"../src/\")\n",
    "from utils import *\n",
    "df = pd.read_csv(\"../data/raw_data/train.csv\")\n",
    "weight = pd.read_csv(\"../data/raw_data/asset_details.csv\")"
   ]
  },
  {
   "cell_type": "code",
   "execution_count": 5,
   "id": "497027e5",
   "metadata": {},
   "outputs": [],
   "source": [
    "Asset_ID = 1"
   ]
  },
  {
   "cell_type": "code",
   "execution_count": 6,
   "id": "c16d6ffe",
   "metadata": {},
   "outputs": [
    {
     "name": "stdout",
     "output_type": "stream",
     "text": [
      "CPU times: user 6 µs, sys: 0 ns, total: 6 µs\n",
      "Wall time: 11.9 µs\n"
     ]
    }
   ],
   "source": [
    "%%time\n",
    "# kfold parameters\n",
    "cv = 3\n",
    "plength=0.8\n",
    "ptrain=0.8\n",
    "pgap=0.05\n",
    "cv_method = 'best'\n",
    "# missing data\n",
    "timestamp_fill = False\n",
    "method = 'drop'\n",
    "weight = weight\n",
    "df = df"
   ]
  },
  {
   "cell_type": "code",
   "execution_count": null,
   "id": "c80ec5ea",
   "metadata": {},
   "outputs": [],
   "source": []
  },
  {
   "cell_type": "code",
   "execution_count": 86,
   "id": "3f498a1d",
   "metadata": {},
   "outputs": [],
   "source": [
    "dft = df[df['Asset_ID'] == Asset_ID].sort_values(by=['timestamp'], ascending=True)\n",
    "# sample\n",
    "dft = dft.iloc[math.floor(dft.shape[0]/3*2):]\n",
    "cvs = CVsample(df=dft, ival='timestamp', cv=cv, plength=plength, ptrain=ptrain, pgap=pgap)\n",
    "cvs.main()\n",
    "\n",
    "# test\n",
    "test = dft[dft['timestamp'] > max(cvs.validation_ends)]\n",
    "tb = talib(test)\n",
    "test_panel = tb.main()\n",
    "\n",
    "[train, gap, validation] = cvs.get_df(2)\n",
    "# feature\n",
    "tb = talib(train)\n",
    "train_panel = tb.main()\n",
    "\n",
    "tb = talib(validation)\n",
    "val_panel = tb.main()"
   ]
  },
  {
   "cell_type": "code",
   "execution_count": 87,
   "id": "00cf8f8e",
   "metadata": {},
   "outputs": [
    {
     "data": {
      "text/plain": [
       "((417340, 58), (43135, 58))"
      ]
     },
     "execution_count": 87,
     "metadata": {},
     "output_type": "execute_result"
    }
   ],
   "source": [
    "train_panel.shape, test_panel.shape"
   ]
  },
  {
   "cell_type": "code",
   "execution_count": 88,
   "id": "00fb1d7b",
   "metadata": {},
   "outputs": [],
   "source": [
    "params = {'batch_size': BATCH_SIZE,\n",
    "          'shuffle': False,\n",
    "          'drop_last': True, # Disregard last incomplete batch\n",
    "          'num_workers': 2}"
   ]
  },
  {
   "cell_type": "code",
   "execution_count": 89,
   "id": "2d71be98",
   "metadata": {},
   "outputs": [
    {
     "name": "stderr",
     "output_type": "stream",
     "text": [
      "100%|███████████████████████████████████████████████████████████████████████| 417281/417281 [00:00<00:00, 747015.11it/s]\n"
     ]
    }
   ],
   "source": [
    "train_panel['Asset_ID'] = Asset_ID\n",
    "train_panel = train_panel.fillna(0)\n",
    "training_ds = GruDataset(train_panel, SEQ_LENGTH)\n",
    "training_dl = DataLoader(training_ds, **params)"
   ]
  },
  {
   "cell_type": "code",
   "execution_count": 90,
   "id": "d601daf2",
   "metadata": {},
   "outputs": [
    {
     "name": "stderr",
     "output_type": "stream",
     "text": [
      "100%|█████████████████████████████████████████████████████████████████████████| 78192/78192 [00:00<00:00, 732750.98it/s]\n"
     ]
    }
   ],
   "source": [
    "val_panel['Asset_ID'] = Asset_ID\n",
    "val_panel = val_panel.fillna(0)\n",
    "validation_ds = GruDataset(val_panel, SEQ_LENGTH)\n",
    "validation_dl = DataLoader(validation_ds, **params)"
   ]
  },
  {
   "cell_type": "code",
   "execution_count": null,
   "id": "953fa33a",
   "metadata": {},
   "outputs": [],
   "source": []
  },
  {
   "cell_type": "code",
   "execution_count": 91,
   "id": "38b1c13b",
   "metadata": {},
   "outputs": [],
   "source": [
    "# Transfer to accelerator\n",
    "use_cuda = torch.cuda.is_available()\n",
    "device = torch.device(\"cuda:3\" if use_cuda else \"cpu\")\n",
    "\n",
    "torch.manual_seed(0)\n",
    "torch.cuda.manual_seed(0)\n",
    "np.random.seed(0)"
   ]
  },
  {
   "cell_type": "code",
   "execution_count": 92,
   "id": "fe8cde13",
   "metadata": {},
   "outputs": [],
   "source": [
    "class LSTM(nn.Module):\n",
    "    def __init__(self, input_size, hidden_size, num_layers, output_size, dropout_prob, directions=1):\n",
    "        super(LSTM, self).__init__()\n",
    "\n",
    "        self.num_layers = num_layers\n",
    "        self.hidden_size = hidden_size\n",
    "        self.directions = directions\n",
    "\n",
    "        self.lstm = nn.LSTM(input_size, hidden_size, num_layers, batch_first=True, dropout=dropout_prob)\n",
    "        self.dropout = nn.Dropout(dropout_prob)\n",
    "        self.linear = nn.Linear(hidden_size, output_size)\n",
    "\n",
    "    def init_hidden_states(self, batch_size):\n",
    "        state_dim = (self.num_layers * self.directions, batch_size, self.hidden_size)\n",
    "        return (torch.zeros(state_dim).to(device), torch.zeros(state_dim).to(device))\n",
    "\n",
    "    def forward(self, x, states):\n",
    "        x, (h, c) = self.lstm(x, states)\n",
    "        out = self.linear(x)\n",
    "        return out, (h, c)"
   ]
  },
  {
   "cell_type": "code",
   "execution_count": null,
   "id": "6bcecb4e",
   "metadata": {},
   "outputs": [],
   "source": []
  },
  {
   "cell_type": "code",
   "execution_count": 93,
   "id": "b03cf1f0",
   "metadata": {},
   "outputs": [],
   "source": [
    "def save_checkpoint(epoch, min_val_loss, model_state, opt_state):\n",
    "    print(f\"New minimum reached at epoch #{epoch + 1}, saving model state...\")\n",
    "    checkpoint = {\n",
    "        'epoch': epoch + 1,\n",
    "        'min_val_loss': min_val_loss,\n",
    "        'model_state': model_state,\n",
    "        'opt_state': opt_state,\n",
    "    }\n",
    "    torch.save(checkpoint, \"./model_state.pt\")\n",
    "\n",
    "\n",
    "def load_checkpoint(path, model, optimizer):\n",
    "    # load check point\n",
    "    checkpoint = torch.load(path)\n",
    "    min_val_loss = checkpoint[\"min_val_loss\"]\n",
    "    model.load_state_dict(checkpoint[\"model_state\"])\n",
    "    optimizer.load_state_dict(checkpoint[\"opt_state\"])\n",
    "    return model, optimizer, checkpoint[\"epoch\"], min_val_loss"
   ]
  },
  {
   "cell_type": "code",
   "execution_count": 94,
   "id": "3bfd5ea0",
   "metadata": {},
   "outputs": [],
   "source": [
    "model = LSTM(\n",
    "    NUM_FEATURES,\n",
    "    HIDDEN_SIZE,\n",
    "    NUM_LAYERS,\n",
    "    OUTPUT_SIZE,\n",
    "    DROPOUT\n",
    ").to(device)\n",
    "\n",
    "criterion = nn.MSELoss()\n",
    "optimizer = optim.AdamW(model.linear.parameters(), lr=LEARNING_RATE, weight_decay=0.01)"
   ]
  },
  {
   "cell_type": "code",
   "execution_count": 95,
   "id": "de8d645a",
   "metadata": {
    "scrolled": true
   },
   "outputs": [
    {
     "name": "stderr",
     "output_type": "stream",
     "text": [
      "  0%|                                                                                            | 0/50 [00:00<?, ?it/s]/home/jwangiy/anaconda3/envs/pytorch/lib/python3.11/site-packages/torch/nn/modules/loss.py:535: UserWarning: Using a target size (torch.Size([128])) that is different to the input size (torch.Size([128, 1])). This will likely lead to incorrect results due to broadcasting. Please ensure they have the same size.\n",
      "  return F.mse_loss(input, target, reduction=self.reduction)\n",
      "  2%|█▋                                                                                  | 1/50 [00:25<21:09, 25.90s/it]"
     ]
    },
    {
     "name": "stdout",
     "output_type": "stream",
     "text": [
      "New minimum reached at epoch #2, saving model state...\n"
     ]
    },
    {
     "name": "stderr",
     "output_type": "stream",
     "text": [
      "  6%|█████                                                                               | 3/50 [01:12<19:06, 24.39s/it]"
     ]
    },
    {
     "name": "stdout",
     "output_type": "stream",
     "text": [
      "New minimum reached at epoch #4, saving model state...\n"
     ]
    },
    {
     "name": "stderr",
     "output_type": "stream",
     "text": [
      " 10%|████████▍                                                                           | 5/50 [01:59<17:50, 23.79s/it]"
     ]
    },
    {
     "name": "stdout",
     "output_type": "stream",
     "text": [
      "New minimum reached at epoch #6, saving model state...\n"
     ]
    },
    {
     "name": "stderr",
     "output_type": "stream",
     "text": [
      " 14%|███████████▊                                                                        | 7/50 [02:44<16:19, 22.78s/it]"
     ]
    },
    {
     "name": "stdout",
     "output_type": "stream",
     "text": [
      "New minimum reached at epoch #8, saving model state...\n"
     ]
    },
    {
     "name": "stderr",
     "output_type": "stream",
     "text": [
      "100%|███████████████████████████████████████████████████████████████████████████████████| 50/50 [17:23<00:00, 20.86s/it]\n"
     ]
    },
    {
     "data": {
      "image/png": "[encoded data removed]",
      "text/plain": [
       "<Figure size 640x480 with 1 Axes>"
      ]
     },
     "metadata": {},
     "output_type": "display_data"
    },
    {
     "data": {
      "image/png": "[encoded data removed]",
      "text/plain": [
       "<Figure size 640x480 with 1 Axes>"
      ]
     },
     "metadata": {},
     "output_type": "display_data"
    }
   ],
   "source": [
    "training_losses = []\n",
    "validation_losses = []\n",
    "min_validation_loss = np.Inf\n",
    "validate_every = 2\n",
    "\n",
    "# Set to train mode\n",
    "model.train()\n",
    "\n",
    "for epoch in tqdm(range(EPOCHS)):\n",
    "    # Initialize hidden and cell states with dimension:\n",
    "    # (num_layers * num_directions, batch, hidden_size)\n",
    "    states = model.init_hidden_states(BATCH_SIZE)\n",
    "    running_training_loss = 0.0\n",
    "\n",
    "    # Begin training\n",
    "    for idx, (x_batch, y_batch) in enumerate(training_dl):\n",
    "        # Convert to Tensors\n",
    "        x_batch = x_batch.float().to(device)\n",
    "        y_batch = y_batch.float().to(device)\n",
    "\n",
    "        # Truncated Backpropagation\n",
    "        states = [state.detach() for state in states]\n",
    "\n",
    "        optimizer.zero_grad()\n",
    "\n",
    "        # Make prediction\n",
    "        output, states = model(x_batch, states)\n",
    "\n",
    "        # Calculate loss\n",
    "        loss = criterion(output[:, -1, :], y_batch.squeeze())\n",
    "        loss.backward()\n",
    "        running_training_loss += loss.item()\n",
    "\n",
    "        torch.nn.utils.clip_grad_norm_(model.parameters(), 0.5)\n",
    "        optimizer.step()\n",
    "\n",
    "    # Average loss across timesteps\n",
    "    training_losses.append(running_training_loss / len(training_dl))\n",
    "\n",
    "    if epoch % validate_every == 0:\n",
    "        # Set to eval mode\n",
    "        model.eval()\n",
    "\n",
    "        validation_states = model.init_hidden_states(BATCH_SIZE)\n",
    "        running_validation_loss = 0.0\n",
    "\n",
    "        for idx, (x_batch, y_batch) in enumerate(validation_dl):\n",
    "            # Convert to Tensors\n",
    "            x_batch = x_batch.float().to(device)\n",
    "            y_batch = y_batch.float().to(device)\n",
    "\n",
    "            validation_states = [state.detach() for state in validation_states]\n",
    "            output, validation_states = model(x_batch, validation_states)\n",
    "            validation_loss = criterion(output[:, -1, :], y_batch.squeeze())\n",
    "            running_validation_loss += validation_loss.item()\n",
    "\n",
    "        validation_losses.append(running_validation_loss / len(validation_dl))\n",
    "        # Reset to training mode\n",
    "        model.train()\n",
    "\n",
    "        is_best = running_validation_loss / len(validation_dl) < min_validation_loss\n",
    "\n",
    "        if is_best:\n",
    "            min_validation_loss = running_validation_loss / len(validation_dl)\n",
    "            save_checkpoint(epoch + 1, min_validation_loss, model.state_dict(), optimizer.state_dict())\n",
    "\n",
    "# Visualize loss\n",
    "epoch_count = range(1, len(training_losses) + 1)\n",
    "plt.plot(epoch_count, training_losses, 'r--')\n",
    "plt.legend(['Training Loss'])\n",
    "plt.xlabel('Epoch')\n",
    "plt.ylabel('Loss')\n",
    "plt.show()\n",
    "\n",
    "val_epoch_count = range(1, len(validation_losses) + 1)\n",
    "plt.plot(val_epoch_count, validation_losses, 'b--')\n",
    "plt.legend(['Validation loss'])\n",
    "plt.xlabel('Epoch')\n",
    "plt.ylabel('Loss')\n",
    "plt.show()"
   ]
  },
  {
   "cell_type": "code",
   "execution_count": null,
   "id": "b20cdc77",
   "metadata": {},
   "outputs": [],
   "source": []
  },
  {
   "cell_type": "code",
   "execution_count": null,
   "id": "76aeab88",
   "metadata": {},
   "outputs": [],
   "source": []
  },
  {
   "cell_type": "code",
   "execution_count": null,
   "id": "0fa97db0",
   "metadata": {},
   "outputs": [],
   "source": []
  },
  {
   "cell_type": "code",
   "execution_count": 96,
   "id": "f1a21150",
   "metadata": {},
   "outputs": [
    {
     "name": "stdout",
     "output_type": "stream",
     "text": [
      "model =  LSTM(\n",
      "  (lstm): LSTM(56, 100, num_layers=2, batch_first=True, dropout=0.2)\n",
      "  (dropout): Dropout(p=0.2, inplace=False)\n",
      "  (linear): Linear(in_features=100, out_features=1, bias=True)\n",
      ")\n",
      "optimizer =  AdamW (\n",
      "Parameter Group 0\n",
      "    amsgrad: False\n",
      "    betas: (0.9, 0.999)\n",
      "    capturable: False\n",
      "    differentiable: False\n",
      "    eps: 1e-08\n",
      "    foreach: None\n",
      "    fused: None\n",
      "    lr: 0.0001\n",
      "    maximize: False\n",
      "    weight_decay: 0.01\n",
      ")\n",
      "start_epoch =  8\n",
      "valid_loss_min =  2.937708048419109e-06\n",
      "valid_loss_min = 0.000003\n"
     ]
    }
   ],
   "source": [
    "path = \"./model_state.pt\"\n",
    "model, optimizer, start_epoch, valid_loss_min = load_checkpoint(path, model, optimizer)\n",
    "print(\"model = \", model)\n",
    "print(\"optimizer = \", optimizer)\n",
    "print(\"start_epoch = \", start_epoch)\n",
    "print(\"valid_loss_min = \", valid_loss_min)\n",
    "print(\"valid_loss_min = {:.6f}\".format(valid_loss_min))"
   ]
  },
  {
   "cell_type": "code",
   "execution_count": null,
   "id": "f7c00457",
   "metadata": {},
   "outputs": [],
   "source": []
  }
 ],
 "metadata": {
  "kernelspec": {
   "display_name": "Python 3 (ipykernel)",
   "language": "python",
   "name": "python3"
  },
  "language_info": {
   "codemirror_mode": {
    "name": "ipython",
    "version": 3
   },
   "file_extension": ".py",
   "mimetype": "text/x-python",
   "name": "python",
   "nbconvert_exporter": "python",
   "pygments_lexer": "ipython3",
   "version": "3.11.5"
  }
 },
 "nbformat": 4,
 "nbformat_minor": 5
}
